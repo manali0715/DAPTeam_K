{
 "cells": [
  {
   "cell_type": "markdown",
   "id": "catholic-booth",
   "metadata": {},
   "source": [
    "                                   NATIONAL COLLEGE OF IRELAND\n",
    "                                   Database and Analytics Programming\n",
    "                                   Final merger of Three Datasets"
   ]
  },
  {
   "cell_type": "code",
   "execution_count": 1,
   "id": "novel-selling",
   "metadata": {},
   "outputs": [],
   "source": [
    "# importing the library\n",
    "import psycopg2 as pg\n",
    "import pandas.io.sql as psql\n",
    "import pandas as pd\n",
    "import numpy as np\n",
    "import seaborn as sns\n",
    "import matplotlib.pyplot as plt\n",
    "\n",
    "#ignore error messages\n",
    "import sys\n",
    "import warnings\n",
    "\n",
    "if not sys.warnoptions:\n",
    "    warnings.simplefilter(\"ignore\") "
   ]
  },
  {
   "cell_type": "code",
   "execution_count": 2,
   "id": "another-commercial",
   "metadata": {},
   "outputs": [],
   "source": [
    "# connecting to postgress and reading the data from psql\n",
    "connection = pg.connect(\"host=192.168.56.30 dbname=postgres user=dap password=dap\")\n",
    "airtabledf = psql.read_sql('SELECT * FROM airtable', connection)"
   ]
  },
  {
   "cell_type": "code",
   "execution_count": 3,
   "id": "prerequisite-missouri",
   "metadata": {},
   "outputs": [],
   "source": [
    "oiltabledf = psql.read_sql('SELECT * FROM oiltable', connection)"
   ]
  },
  {
   "cell_type": "code",
   "execution_count": 4,
   "id": "third-dance",
   "metadata": {},
   "outputs": [],
   "source": [
    "solartabledf = psql.read_sql('SELECT * FROM solartable', connection)"
   ]
  },
  {
   "cell_type": "code",
   "execution_count": 5,
   "id": "blind-european",
   "metadata": {},
   "outputs": [
    {
     "data": {
      "text/plain": [
       "Index(['index', 'MeasureId', 'MeasureName', 'MeasureType',\n",
       "       'StratificationLevel', 'StateFips', 'StateName', 'CountyFips',\n",
       "       'CountyName', 'ReportYear', 'Value', 'DataOrigin', 'MonitorOnly'],\n",
       "      dtype='object')"
      ]
     },
     "execution_count": 5,
     "metadata": {},
     "output_type": "execute_result"
    }
   ],
   "source": [
    "#data set pre processing before joining, just finding the unique values for dataframe airtables\n",
    "airtabledf.keys()"
   ]
  },
  {
   "cell_type": "code",
   "execution_count": 6,
   "id": "rising-haiti",
   "metadata": {},
   "outputs": [
    {
     "data": {
      "text/plain": [
       "Index(['index', 'ProductionYear', 'Production Date Entered', 'Operator',\n",
       "       'County', 'Town', 'Field', 'Producing Formation', 'Active Oil Wells',\n",
       "       'Inactive Oil Wells', 'Active Gas Wells', 'Inactive Gas Wells',\n",
       "       'Injection Wells', 'Disposal Wells', 'Self-use Well', 'OilProduced',\n",
       "       'GasProduced', 'Waterproduced', 'TaxableGas', 'Purchaser Codes',\n",
       "       'Location'],\n",
       "      dtype='object')"
      ]
     },
     "execution_count": 6,
     "metadata": {},
     "output_type": "execute_result"
    }
   ],
   "source": [
    "#finding the unique values for dataframe oiltable\n",
    "oiltabledf.keys()"
   ]
  },
  {
   "cell_type": "code",
   "execution_count": 7,
   "id": "english-islam",
   "metadata": {},
   "outputs": [
    {
     "data": {
      "text/plain": [
       "Index(['index', 'Project Number', 'City', 'County', 'State', 'Zip Code',\n",
       "       'Sector', 'Program Type', 'Solicitation', 'Electric Utility',\n",
       "       'Purchase Type', 'Date Application Received', 'Date Completed',\n",
       "       'Project Status', 'Contractor', 'Primary Inverter Manufacturer',\n",
       "       'Total Inverter Quantity', 'Primary PV Module Manufacturer',\n",
       "       'Total PV Module Quantity', 'Project Cost', 'Incentive',\n",
       "       'Total Nameplate kW DC', 'Expected KWh Annual Production',\n",
       "       'Affordable Solar', 'Community Distributed Generation', 'Location 1',\n",
       "       'NYS Municipal Boundaries', 'computedregion'],\n",
       "      dtype='object')"
      ]
     },
     "execution_count": 7,
     "metadata": {},
     "output_type": "execute_result"
    }
   ],
   "source": [
    "#finding the unique values for dataframe solartable\n",
    "solartabledf.keys()"
   ]
  },
  {
   "cell_type": "code",
   "execution_count": 8,
   "id": "operating-friday",
   "metadata": {},
   "outputs": [],
   "source": [
    "# droping some of the coloum for dataset  airtable \n",
    "airtabledf = airtabledf.drop(['MeasureId','MeasureType','StratificationLevel','StateFips','StateName','CountyFips','DataOrigin','MonitorOnly'], axis=1)"
   ]
  },
  {
   "cell_type": "code",
   "execution_count": 9,
   "id": "breathing-market",
   "metadata": {},
   "outputs": [],
   "source": [
    "# droping some of the coloum for dataset oiltable\n",
    "oiltabledf = oiltabledf.drop(['Production Date Entered','Field','Producing Formation','Injection Wells','Disposal Wells','Self-use Well','Waterproduced','TaxableGas','Purchaser Codes','Location'], axis=1)"
   ]
  },
  {
   "cell_type": "code",
   "execution_count": 10,
   "id": "roman-blank",
   "metadata": {},
   "outputs": [],
   "source": [
    "#droping some of the coloum for dataset solar table\n",
    "solartabledf = solartabledf.drop(['Project Number','State','Zip Code','Sector','Solicitation','Date Application Received','Date Completed','Contractor','Primary Inverter Manufacturer'], axis=1)"
   ]
  },
  {
   "cell_type": "code",
   "execution_count": 11,
   "id": "concrete-sucking",
   "metadata": {},
   "outputs": [],
   "source": [
    "#droping some of the coloum for dataset solar table\n",
    "solartabledf = solartabledf.drop(['Total Inverter Quantity','Primary PV Module Manufacturer','Total PV Module Quantity','Incentive','Total Nameplate kW DC','Community Distributed Generation','Location 1','NYS Municipal Boundaries','computedregion'], axis=1)"
   ]
  },
  {
   "cell_type": "code",
   "execution_count": 12,
   "id": "weird-standard",
   "metadata": {},
   "outputs": [
    {
     "data": {
      "text/plain": [
       "Index(['index', 'MeasureName', 'CountyName', 'ReportYear', 'Value'], dtype='object')"
      ]
     },
     "execution_count": 12,
     "metadata": {},
     "output_type": "execute_result"
    }
   ],
   "source": [
    "# displaying coloum names\n",
    "airtabledf.keys()"
   ]
  },
  {
   "cell_type": "code",
   "execution_count": 13,
   "id": "through-craps",
   "metadata": {},
   "outputs": [
    {
     "data": {
      "text/plain": [
       "Index(['index', 'ProductionYear', 'Operator', 'County', 'Town',\n",
       "       'Active Oil Wells', 'Inactive Oil Wells', 'Active Gas Wells',\n",
       "       'Inactive Gas Wells', 'OilProduced', 'GasProduced'],\n",
       "      dtype='object')"
      ]
     },
     "execution_count": 13,
     "metadata": {},
     "output_type": "execute_result"
    }
   ],
   "source": [
    "# displaying coloum names\n",
    "oiltabledf.keys()"
   ]
  },
  {
   "cell_type": "code",
   "execution_count": 14,
   "id": "circular-contributor",
   "metadata": {},
   "outputs": [
    {
     "data": {
      "text/plain": [
       "Index(['index', 'City', 'County', 'Program Type', 'Electric Utility',\n",
       "       'Purchase Type', 'Project Status', 'Project Cost',\n",
       "       'Expected KWh Annual Production', 'Affordable Solar'],\n",
       "      dtype='object')"
      ]
     },
     "execution_count": 14,
     "metadata": {},
     "output_type": "execute_result"
    }
   ],
   "source": [
    "# displaying coloum names\n",
    "solartabledf.keys()"
   ]
  },
  {
   "cell_type": "markdown",
   "id": "acquired-warner",
   "metadata": {},
   "source": [
    "Renaming the variables"
   ]
  },
  {
   "cell_type": "code",
   "execution_count": 15,
   "id": "superior-america",
   "metadata": {},
   "outputs": [],
   "source": [
    "#rename the coloum name in dataset airtabledf\n",
    "airtabledf.rename(columns={'CountyName':'County'}, inplace=True)"
   ]
  },
  {
   "cell_type": "code",
   "execution_count": 16,
   "id": "average-leadership",
   "metadata": {},
   "outputs": [],
   "source": [
    "#rename the coloum name in dataset oiltable\n",
    "oiltabledf.rename(columns={'Town':'City'}, inplace=True)"
   ]
  },
  {
   "cell_type": "code",
   "execution_count": 17,
   "id": "possible-prospect",
   "metadata": {},
   "outputs": [],
   "source": [
    "# backup of dataframes\n",
    "airBackup = airtabledf\n",
    "oilBackup = oiltabledf\n",
    "solarBackup = solartabledf"
   ]
  },
  {
   "cell_type": "code",
   "execution_count": 18,
   "id": "noted-bride",
   "metadata": {},
   "outputs": [
    {
     "data": {
      "text/plain": [
       "array(['Number of days with maximum 8-hour average ozone concentration over the National Ambient Air Quality Standard',\n",
       "       'Percent of days with PM2.5 levels over the National Ambient Air Quality Standard (NAAQS)',\n",
       "       'Person-days with PM2.5 over the National Ambient Air Quality Standard',\n",
       "       'Number of person-days with maximum 8-hour average ozone concentration over the National Ambient Air Quality Standard'],\n",
       "      dtype=object)"
      ]
     },
     "execution_count": 18,
     "metadata": {},
     "output_type": "execute_result"
    }
   ],
   "source": [
    "#identifying the unique measurenames\n",
    "airtabledf['MeasureName'].unique()"
   ]
  },
  {
   "cell_type": "code",
   "execution_count": 19,
   "id": "returning-wedding",
   "metadata": {},
   "outputs": [],
   "source": [
    "#converting the measure names into integer for dataset air\n",
    "airtabledf['MeasureName'] = airtabledf['MeasureName'].astype(\"category\").cat.codes"
   ]
  },
  {
   "cell_type": "code",
   "execution_count": 20,
   "id": "nonprofit-bible",
   "metadata": {},
   "outputs": [
    {
     "data": {
      "text/plain": [
       "array([0, 2, 3, 1], dtype=int8)"
      ]
     },
     "execution_count": 20,
     "metadata": {},
     "output_type": "execute_result"
    }
   ],
   "source": [
    "#after convetion of categorical variable\n",
    "airtabledf['MeasureName'].unique()"
   ]
  },
  {
   "cell_type": "code",
   "execution_count": 21,
   "id": "grave-thinking",
   "metadata": {},
   "outputs": [
    {
     "data": {
      "text/html": [
       "<div>\n",
       "<style scoped>\n",
       "    .dataframe tbody tr th:only-of-type {\n",
       "        vertical-align: middle;\n",
       "    }\n",
       "\n",
       "    .dataframe tbody tr th {\n",
       "        vertical-align: top;\n",
       "    }\n",
       "\n",
       "    .dataframe thead th {\n",
       "        text-align: right;\n",
       "    }\n",
       "</style>\n",
       "<table border=\"1\" class=\"dataframe\">\n",
       "  <thead>\n",
       "    <tr style=\"text-align: right;\">\n",
       "      <th></th>\n",
       "      <th>index</th>\n",
       "      <th>MeasureName</th>\n",
       "      <th>County</th>\n",
       "      <th>ReportYear</th>\n",
       "      <th>Value</th>\n",
       "    </tr>\n",
       "  </thead>\n",
       "  <tbody>\n",
       "    <tr>\n",
       "      <th>0</th>\n",
       "      <td>0</td>\n",
       "      <td>0</td>\n",
       "      <td>Clay</td>\n",
       "      <td>1999</td>\n",
       "      <td>33</td>\n",
       "    </tr>\n",
       "    <tr>\n",
       "      <th>1</th>\n",
       "      <td>1</td>\n",
       "      <td>0</td>\n",
       "      <td>Elmore</td>\n",
       "      <td>1999</td>\n",
       "      <td>5</td>\n",
       "    </tr>\n",
       "    <tr>\n",
       "      <th>2</th>\n",
       "      <td>2</td>\n",
       "      <td>0</td>\n",
       "      <td>Jefferson</td>\n",
       "      <td>1999</td>\n",
       "      <td>39</td>\n",
       "    </tr>\n",
       "    <tr>\n",
       "      <th>3</th>\n",
       "      <td>3</td>\n",
       "      <td>0</td>\n",
       "      <td>Lawrence</td>\n",
       "      <td>1999</td>\n",
       "      <td>28</td>\n",
       "    </tr>\n",
       "    <tr>\n",
       "      <th>4</th>\n",
       "      <td>4</td>\n",
       "      <td>0</td>\n",
       "      <td>Madison</td>\n",
       "      <td>1999</td>\n",
       "      <td>31</td>\n",
       "    </tr>\n",
       "    <tr>\n",
       "      <th>...</th>\n",
       "      <td>...</td>\n",
       "      <td>...</td>\n",
       "      <td>...</td>\n",
       "      <td>...</td>\n",
       "      <td>...</td>\n",
       "    </tr>\n",
       "    <tr>\n",
       "      <th>9995</th>\n",
       "      <td>9995</td>\n",
       "      <td>1</td>\n",
       "      <td>New Castle</td>\n",
       "      <td>2006</td>\n",
       "      <td>6853262</td>\n",
       "    </tr>\n",
       "    <tr>\n",
       "      <th>9996</th>\n",
       "      <td>9996</td>\n",
       "      <td>1</td>\n",
       "      <td>Sussex</td>\n",
       "      <td>2006</td>\n",
       "      <td>1823900</td>\n",
       "    </tr>\n",
       "    <tr>\n",
       "      <th>9997</th>\n",
       "      <td>9997</td>\n",
       "      <td>1</td>\n",
       "      <td>District of Columbia</td>\n",
       "      <td>2006</td>\n",
       "      <td>12554982</td>\n",
       "    </tr>\n",
       "    <tr>\n",
       "      <th>9998</th>\n",
       "      <td>9998</td>\n",
       "      <td>1</td>\n",
       "      <td>Alachua</td>\n",
       "      <td>2006</td>\n",
       "      <td>479012</td>\n",
       "    </tr>\n",
       "    <tr>\n",
       "      <th>9999</th>\n",
       "      <td>9999</td>\n",
       "      <td>1</td>\n",
       "      <td>Baker</td>\n",
       "      <td>2006</td>\n",
       "      <td>25571</td>\n",
       "    </tr>\n",
       "  </tbody>\n",
       "</table>\n",
       "<p>10000 rows × 5 columns</p>\n",
       "</div>"
      ],
      "text/plain": [
       "      index  MeasureName                County ReportYear     Value\n",
       "0         0            0                  Clay       1999        33\n",
       "1         1            0                Elmore       1999         5\n",
       "2         2            0             Jefferson       1999        39\n",
       "3         3            0              Lawrence       1999        28\n",
       "4         4            0               Madison       1999        31\n",
       "...     ...          ...                   ...        ...       ...\n",
       "9995   9995            1            New Castle       2006   6853262\n",
       "9996   9996            1                Sussex       2006   1823900\n",
       "9997   9997            1  District of Columbia       2006  12554982\n",
       "9998   9998            1               Alachua       2006    479012\n",
       "9999   9999            1                 Baker       2006     25571\n",
       "\n",
       "[10000 rows x 5 columns]"
      ]
     },
     "execution_count": 21,
     "metadata": {},
     "output_type": "execute_result"
    }
   ],
   "source": [
    "#all the measurename have been converted to integer for dataset air\n",
    "airtabledf.head(10000)"
   ]
  },
  {
   "cell_type": "code",
   "execution_count": 22,
   "id": "excess-franklin",
   "metadata": {},
   "outputs": [
    {
     "data": {
      "text/plain": [
       "array([0, 2, 3, 1], dtype=int8)"
      ]
     },
     "execution_count": 22,
     "metadata": {},
     "output_type": "execute_result"
    }
   ],
   "source": [
    "# verifing the categorical values of measure names are converted\n",
    "airtabledf['MeasureName'].unique()"
   ]
  },
  {
   "cell_type": "code",
   "execution_count": 23,
   "id": "academic-regular",
   "metadata": {},
   "outputs": [
    {
     "data": {
      "text/plain": [
       "array(['Buffalo China, Inc.', 'Copper Ridge Oil, Inc.',\n",
       "       'White, Walter W. & Christina L.', ..., 'Underlayer & Co.',\n",
       "       'Pedestal Oil Co., Inc.', 'N.Y. Petro-Min Corp.'], dtype=object)"
      ]
     },
     "execution_count": 23,
     "metadata": {},
     "output_type": "execute_result"
    }
   ],
   "source": [
    "#identifying the unique measurenames\n",
    "oiltabledf['Operator'].unique()"
   ]
  },
  {
   "cell_type": "code",
   "execution_count": 24,
   "id": "dying-verification",
   "metadata": {},
   "outputs": [],
   "source": [
    "#for dataset oiltable converting into int\n",
    "oiltabledf['Operator'] = oiltabledf['Operator'].astype(\"category\").cat.codes"
   ]
  },
  {
   "cell_type": "code",
   "execution_count": 25,
   "id": "international-continent",
   "metadata": {},
   "outputs": [
    {
     "data": {
      "text/plain": [
       "array([ 150,  254, 1257, ..., 1193,  924,  846], dtype=int16)"
      ]
     },
     "execution_count": 25,
     "metadata": {},
     "output_type": "execute_result"
    }
   ],
   "source": [
    "# verifing the categorical values of Operator are converted\n",
    "oiltabledf['Operator'].unique()"
   ]
  },
  {
   "cell_type": "code",
   "execution_count": 26,
   "id": "killing-italic",
   "metadata": {},
   "outputs": [
    {
     "data": {
      "text/html": [
       "<div>\n",
       "<style scoped>\n",
       "    .dataframe tbody tr th:only-of-type {\n",
       "        vertical-align: middle;\n",
       "    }\n",
       "\n",
       "    .dataframe tbody tr th {\n",
       "        vertical-align: top;\n",
       "    }\n",
       "\n",
       "    .dataframe thead th {\n",
       "        text-align: right;\n",
       "    }\n",
       "</style>\n",
       "<table border=\"1\" class=\"dataframe\">\n",
       "  <thead>\n",
       "    <tr style=\"text-align: right;\">\n",
       "      <th></th>\n",
       "      <th>index</th>\n",
       "      <th>ProductionYear</th>\n",
       "      <th>Operator</th>\n",
       "      <th>County</th>\n",
       "      <th>City</th>\n",
       "      <th>Active Oil Wells</th>\n",
       "      <th>Inactive Oil Wells</th>\n",
       "      <th>Active Gas Wells</th>\n",
       "      <th>Inactive Gas Wells</th>\n",
       "      <th>OilProduced</th>\n",
       "      <th>GasProduced</th>\n",
       "    </tr>\n",
       "  </thead>\n",
       "  <tbody>\n",
       "    <tr>\n",
       "      <th>0</th>\n",
       "      <td>0</td>\n",
       "      <td>1995</td>\n",
       "      <td>150</td>\n",
       "      <td>Erie</td>\n",
       "      <td>BUFFALO</td>\n",
       "      <td>0</td>\n",
       "      <td>0</td>\n",
       "      <td>1</td>\n",
       "      <td>0</td>\n",
       "      <td>0</td>\n",
       "      <td>106</td>\n",
       "    </tr>\n",
       "    <tr>\n",
       "      <th>1</th>\n",
       "      <td>1</td>\n",
       "      <td>1995</td>\n",
       "      <td>254</td>\n",
       "      <td>Steuben</td>\n",
       "      <td>WEST UNION</td>\n",
       "      <td>28</td>\n",
       "      <td>0</td>\n",
       "      <td>0</td>\n",
       "      <td>0</td>\n",
       "      <td>1229</td>\n",
       "      <td>0</td>\n",
       "    </tr>\n",
       "    <tr>\n",
       "      <th>2</th>\n",
       "      <td>2</td>\n",
       "      <td>1994</td>\n",
       "      <td>1257</td>\n",
       "      <td>Cattaraugus</td>\n",
       "      <td>CARROLLTON</td>\n",
       "      <td>3</td>\n",
       "      <td>0</td>\n",
       "      <td>0</td>\n",
       "      <td>0</td>\n",
       "      <td>462</td>\n",
       "      <td>0</td>\n",
       "    </tr>\n",
       "    <tr>\n",
       "      <th>3</th>\n",
       "      <td>3</td>\n",
       "      <td>1994</td>\n",
       "      <td>1134</td>\n",
       "      <td>Erie</td>\n",
       "      <td>CHEEKTOWAGA</td>\n",
       "      <td>0</td>\n",
       "      <td>0</td>\n",
       "      <td>1</td>\n",
       "      <td>0</td>\n",
       "      <td>0</td>\n",
       "      <td>530</td>\n",
       "    </tr>\n",
       "    <tr>\n",
       "      <th>4</th>\n",
       "      <td>4</td>\n",
       "      <td>1995</td>\n",
       "      <td>146</td>\n",
       "      <td>Cattaraugus</td>\n",
       "      <td>ALLEGANY</td>\n",
       "      <td>10</td>\n",
       "      <td>0</td>\n",
       "      <td>0</td>\n",
       "      <td>0</td>\n",
       "      <td>45</td>\n",
       "      <td>0</td>\n",
       "    </tr>\n",
       "    <tr>\n",
       "      <th>...</th>\n",
       "      <td>...</td>\n",
       "      <td>...</td>\n",
       "      <td>...</td>\n",
       "      <td>...</td>\n",
       "      <td>...</td>\n",
       "      <td>...</td>\n",
       "      <td>...</td>\n",
       "      <td>...</td>\n",
       "      <td>...</td>\n",
       "      <td>...</td>\n",
       "      <td>...</td>\n",
       "    </tr>\n",
       "    <tr>\n",
       "      <th>495</th>\n",
       "      <td>495</td>\n",
       "      <td>1995</td>\n",
       "      <td>61</td>\n",
       "      <td>Steuben</td>\n",
       "      <td>AVOCA</td>\n",
       "      <td>0</td>\n",
       "      <td>0</td>\n",
       "      <td>2</td>\n",
       "      <td>0</td>\n",
       "      <td>0</td>\n",
       "      <td>1923</td>\n",
       "    </tr>\n",
       "    <tr>\n",
       "      <th>496</th>\n",
       "      <td>496</td>\n",
       "      <td>1995</td>\n",
       "      <td>125</td>\n",
       "      <td>Cattaraugus</td>\n",
       "      <td>ALLEGANY</td>\n",
       "      <td>18</td>\n",
       "      <td>0</td>\n",
       "      <td>0</td>\n",
       "      <td>0</td>\n",
       "      <td>2034</td>\n",
       "      <td>0</td>\n",
       "    </tr>\n",
       "    <tr>\n",
       "      <th>497</th>\n",
       "      <td>497</td>\n",
       "      <td>1995</td>\n",
       "      <td>104</td>\n",
       "      <td>Livingston</td>\n",
       "      <td>LEICESTER</td>\n",
       "      <td>0</td>\n",
       "      <td>0</td>\n",
       "      <td>9</td>\n",
       "      <td>0</td>\n",
       "      <td>0</td>\n",
       "      <td>38245</td>\n",
       "    </tr>\n",
       "    <tr>\n",
       "      <th>498</th>\n",
       "      <td>498</td>\n",
       "      <td>1995</td>\n",
       "      <td>270</td>\n",
       "      <td>Chautauqua</td>\n",
       "      <td>CHERRY CREEK</td>\n",
       "      <td>0</td>\n",
       "      <td>0</td>\n",
       "      <td>2</td>\n",
       "      <td>0</td>\n",
       "      <td>0</td>\n",
       "      <td>0</td>\n",
       "    </tr>\n",
       "    <tr>\n",
       "      <th>499</th>\n",
       "      <td>499</td>\n",
       "      <td>1995</td>\n",
       "      <td>289</td>\n",
       "      <td>Oswego</td>\n",
       "      <td>WILLIAMSTOWN</td>\n",
       "      <td>0</td>\n",
       "      <td>0</td>\n",
       "      <td>0</td>\n",
       "      <td>1</td>\n",
       "      <td>0</td>\n",
       "      <td>0</td>\n",
       "    </tr>\n",
       "  </tbody>\n",
       "</table>\n",
       "<p>500 rows × 11 columns</p>\n",
       "</div>"
      ],
      "text/plain": [
       "     index ProductionYear  Operator       County          City  \\\n",
       "0        0           1995       150         Erie       BUFFALO   \n",
       "1        1           1995       254      Steuben    WEST UNION   \n",
       "2        2           1994      1257  Cattaraugus    CARROLLTON   \n",
       "3        3           1994      1134         Erie   CHEEKTOWAGA   \n",
       "4        4           1995       146  Cattaraugus      ALLEGANY   \n",
       "..     ...            ...       ...          ...           ...   \n",
       "495    495           1995        61      Steuben         AVOCA   \n",
       "496    496           1995       125  Cattaraugus      ALLEGANY   \n",
       "497    497           1995       104   Livingston     LEICESTER   \n",
       "498    498           1995       270   Chautauqua  CHERRY CREEK   \n",
       "499    499           1995       289       Oswego  WILLIAMSTOWN   \n",
       "\n",
       "     Active Oil Wells  Inactive Oil Wells Active Gas Wells Inactive Gas Wells  \\\n",
       "0                   0                   0                1                  0   \n",
       "1                  28                   0                0                  0   \n",
       "2                   3                   0                0                  0   \n",
       "3                   0                   0                1                  0   \n",
       "4                  10                   0                0                  0   \n",
       "..                ...                 ...              ...                ...   \n",
       "495                 0                   0                2                  0   \n",
       "496                18                   0                0                  0   \n",
       "497                 0                   0                9                  0   \n",
       "498                 0                   0                2                  0   \n",
       "499                 0                   0                0                  1   \n",
       "\n",
       "    OilProduced GasProduced  \n",
       "0             0         106  \n",
       "1          1229           0  \n",
       "2           462           0  \n",
       "3             0         530  \n",
       "4            45           0  \n",
       "..          ...         ...  \n",
       "495           0        1923  \n",
       "496        2034           0  \n",
       "497           0       38245  \n",
       "498           0           0  \n",
       "499           0           0  \n",
       "\n",
       "[500 rows x 11 columns]"
      ]
     },
     "execution_count": 26,
     "metadata": {},
     "output_type": "execute_result"
    }
   ],
   "source": [
    "#After convertion of categorical variables\n",
    "oiltabledf.head(500)"
   ]
  },
  {
   "cell_type": "code",
   "execution_count": 27,
   "id": "beneficial-reset",
   "metadata": {},
   "outputs": [
    {
     "data": {
      "text/plain": [
       "array(['Residential/Small Commercial',\n",
       "       'Commercial/Industrial (Competitive)',\n",
       "       'Commercial/Industrial (MW Block)'], dtype=object)"
      ]
     },
     "execution_count": 27,
     "metadata": {},
     "output_type": "execute_result"
    }
   ],
   "source": [
    "#identifying the unique in the solar dataset\n",
    "solartabledf['Program Type'].unique()"
   ]
  },
  {
   "cell_type": "code",
   "execution_count": 28,
   "id": "pleased-navigator",
   "metadata": {},
   "outputs": [
    {
     "data": {
      "text/plain": [
       "array(['National Grid', 'PSEG Long Island', 'Consolidated Edison',\n",
       "       'NYS Electric and Gas', 'Central Hudson Gas and Electric',\n",
       "       'Rochester Gas and Electric', 'Orange and Rockland Utilities'],\n",
       "      dtype=object)"
      ]
     },
     "execution_count": 28,
     "metadata": {},
     "output_type": "execute_result"
    }
   ],
   "source": [
    "#identifying the unique in the solar dataset\n",
    "solartabledf['Electric Utility'].unique()"
   ]
  },
  {
   "cell_type": "code",
   "execution_count": 29,
   "id": "visible-variance",
   "metadata": {},
   "outputs": [
    {
     "data": {
      "text/plain": [
       "array(['Purchase', 'Lease', 'Power Purchase Agreement', None],\n",
       "      dtype=object)"
      ]
     },
     "execution_count": 29,
     "metadata": {},
     "output_type": "execute_result"
    }
   ],
   "source": [
    "#identifying the unique in the solar dataset\n",
    "solartabledf['Purchase Type'].unique()"
   ]
  },
  {
   "cell_type": "code",
   "execution_count": 30,
   "id": "square-quarter",
   "metadata": {},
   "outputs": [
    {
     "data": {
      "text/plain": [
       "array(['Complete', 'Pipeline'], dtype=object)"
      ]
     },
     "execution_count": 30,
     "metadata": {},
     "output_type": "execute_result"
    }
   ],
   "source": [
    "#identifying the unique in the solar dataset\n",
    "solartabledf['Project Status'].unique()"
   ]
  },
  {
   "cell_type": "code",
   "execution_count": 31,
   "id": "noble-iceland",
   "metadata": {},
   "outputs": [
    {
     "data": {
      "text/plain": [
       "array(['No', 'Yes'], dtype=object)"
      ]
     },
     "execution_count": 31,
     "metadata": {},
     "output_type": "execute_result"
    }
   ],
   "source": [
    "#identifying the unique in the solar dataset\n",
    "solartabledf['Affordable Solar'].unique()"
   ]
  },
  {
   "cell_type": "code",
   "execution_count": 32,
   "id": "alternate-authority",
   "metadata": {},
   "outputs": [],
   "source": [
    "#verifying catogerical variables are converted\n",
    "solartabledf['Program Type'] = solartabledf['Program Type'].astype(\"category\").cat.codes\n",
    "solartabledf['Electric Utility'] = solartabledf['Electric Utility'].astype(\"category\").cat.codes\n",
    "solartabledf['Purchase Type'] = solartabledf['Purchase Type'].astype(\"category\").cat.codes\n",
    "solartabledf['Project Status'] = solartabledf['Project Status'].astype(\"category\").cat.codes\n",
    "solartabledf['Affordable Solar'] = solartabledf['Affordable Solar'].astype(\"category\").cat.codes\n"
   ]
  },
  {
   "cell_type": "code",
   "execution_count": 33,
   "id": "patent-forwarding",
   "metadata": {},
   "outputs": [
    {
     "data": {
      "text/plain": [
       "array([3, 5, 1, 2, 0, 6, 4], dtype=int8)"
      ]
     },
     "execution_count": 33,
     "metadata": {},
     "output_type": "execute_result"
    }
   ],
   "source": [
    "#after conveting to category the unique in the solar dataset\n",
    "solartabledf['Electric Utility'].unique()"
   ]
  },
  {
   "cell_type": "code",
   "execution_count": 34,
   "id": "bigger-century",
   "metadata": {},
   "outputs": [
    {
     "data": {
      "text/plain": [
       "array([ 2,  0,  1, -1], dtype=int8)"
      ]
     },
     "execution_count": 34,
     "metadata": {},
     "output_type": "execute_result"
    }
   ],
   "source": [
    "#after conveting to category the unique in the solar dataset\n",
    "solartabledf['Purchase Type'].unique()"
   ]
  },
  {
   "cell_type": "code",
   "execution_count": 35,
   "id": "sorted-playback",
   "metadata": {},
   "outputs": [
    {
     "data": {
      "text/plain": [
       "array([2, 0, 1], dtype=int8)"
      ]
     },
     "execution_count": 35,
     "metadata": {},
     "output_type": "execute_result"
    }
   ],
   "source": [
    "#after conveting to category the unique in the solar dataset\n",
    "solartabledf['Program Type'].unique()"
   ]
  },
  {
   "cell_type": "code",
   "execution_count": 36,
   "id": "postal-effectiveness",
   "metadata": {},
   "outputs": [
    {
     "data": {
      "text/plain": [
       "array([0, 1], dtype=int8)"
      ]
     },
     "execution_count": 36,
     "metadata": {},
     "output_type": "execute_result"
    }
   ],
   "source": [
    "#after conveting to category the unique in the solar dataset\n",
    "solartabledf['Project Status'].unique()"
   ]
  },
  {
   "cell_type": "code",
   "execution_count": 37,
   "id": "standard-trigger",
   "metadata": {},
   "outputs": [
    {
     "data": {
      "text/plain": [
       "array([0, 1], dtype=int8)"
      ]
     },
     "execution_count": 37,
     "metadata": {},
     "output_type": "execute_result"
    }
   ],
   "source": [
    "#after conveting to category the unique in the solar dataset\n",
    "solartabledf['Affordable Solar'].unique()"
   ]
  },
  {
   "cell_type": "code",
   "execution_count": 38,
   "id": "shaped-french",
   "metadata": {},
   "outputs": [
    {
     "data": {
      "text/html": [
       "<div>\n",
       "<style scoped>\n",
       "    .dataframe tbody tr th:only-of-type {\n",
       "        vertical-align: middle;\n",
       "    }\n",
       "\n",
       "    .dataframe tbody tr th {\n",
       "        vertical-align: top;\n",
       "    }\n",
       "\n",
       "    .dataframe thead th {\n",
       "        text-align: right;\n",
       "    }\n",
       "</style>\n",
       "<table border=\"1\" class=\"dataframe\">\n",
       "  <thead>\n",
       "    <tr style=\"text-align: right;\">\n",
       "      <th></th>\n",
       "      <th>index</th>\n",
       "      <th>City</th>\n",
       "      <th>County</th>\n",
       "      <th>Program Type</th>\n",
       "      <th>Electric Utility</th>\n",
       "      <th>Purchase Type</th>\n",
       "      <th>Project Status</th>\n",
       "      <th>Project Cost</th>\n",
       "      <th>Expected KWh Annual Production</th>\n",
       "      <th>Affordable Solar</th>\n",
       "    </tr>\n",
       "  </thead>\n",
       "  <tbody>\n",
       "    <tr>\n",
       "      <th>0</th>\n",
       "      <td>0</td>\n",
       "      <td>Scotia</td>\n",
       "      <td>Schenectady</td>\n",
       "      <td>2</td>\n",
       "      <td>3</td>\n",
       "      <td>2</td>\n",
       "      <td>0</td>\n",
       "      <td>22950</td>\n",
       "      <td>5987</td>\n",
       "      <td>0</td>\n",
       "    </tr>\n",
       "    <tr>\n",
       "      <th>1</th>\n",
       "      <td>1</td>\n",
       "      <td>Ridge</td>\n",
       "      <td>Suffolk</td>\n",
       "      <td>2</td>\n",
       "      <td>5</td>\n",
       "      <td>0</td>\n",
       "      <td>0</td>\n",
       "      <td>38552.2</td>\n",
       "      <td>9212</td>\n",
       "      <td>0</td>\n",
       "    </tr>\n",
       "    <tr>\n",
       "      <th>2</th>\n",
       "      <td>2</td>\n",
       "      <td>Montrose</td>\n",
       "      <td>Westchester</td>\n",
       "      <td>2</td>\n",
       "      <td>1</td>\n",
       "      <td>2</td>\n",
       "      <td>0</td>\n",
       "      <td>40900</td>\n",
       "      <td>9015</td>\n",
       "      <td>0</td>\n",
       "    </tr>\n",
       "    <tr>\n",
       "      <th>3</th>\n",
       "      <td>3</td>\n",
       "      <td>Bronx</td>\n",
       "      <td>Bronx</td>\n",
       "      <td>2</td>\n",
       "      <td>1</td>\n",
       "      <td>0</td>\n",
       "      <td>0</td>\n",
       "      <td>20832.35</td>\n",
       "      <td>3163</td>\n",
       "      <td>0</td>\n",
       "    </tr>\n",
       "    <tr>\n",
       "      <th>4</th>\n",
       "      <td>4</td>\n",
       "      <td>Bellmore</td>\n",
       "      <td>Nassau</td>\n",
       "      <td>2</td>\n",
       "      <td>5</td>\n",
       "      <td>0</td>\n",
       "      <td>0</td>\n",
       "      <td>44268</td>\n",
       "      <td>9279</td>\n",
       "      <td>0</td>\n",
       "    </tr>\n",
       "    <tr>\n",
       "      <th>...</th>\n",
       "      <td>...</td>\n",
       "      <td>...</td>\n",
       "      <td>...</td>\n",
       "      <td>...</td>\n",
       "      <td>...</td>\n",
       "      <td>...</td>\n",
       "      <td>...</td>\n",
       "      <td>...</td>\n",
       "      <td>...</td>\n",
       "      <td>...</td>\n",
       "    </tr>\n",
       "    <tr>\n",
       "      <th>1995</th>\n",
       "      <td>1994</td>\n",
       "      <td>Bellerose</td>\n",
       "      <td>Queens</td>\n",
       "      <td>2</td>\n",
       "      <td>1</td>\n",
       "      <td>-1</td>\n",
       "      <td>0</td>\n",
       "      <td>55230</td>\n",
       "      <td>7131</td>\n",
       "      <td>0</td>\n",
       "    </tr>\n",
       "    <tr>\n",
       "      <th>1996</th>\n",
       "      <td>1995</td>\n",
       "      <td>Amityville</td>\n",
       "      <td>Suffolk</td>\n",
       "      <td>2</td>\n",
       "      <td>5</td>\n",
       "      <td>0</td>\n",
       "      <td>0</td>\n",
       "      <td>50000</td>\n",
       "      <td>15354</td>\n",
       "      <td>0</td>\n",
       "    </tr>\n",
       "    <tr>\n",
       "      <th>1997</th>\n",
       "      <td>1996</td>\n",
       "      <td>East Islip</td>\n",
       "      <td>Suffolk</td>\n",
       "      <td>2</td>\n",
       "      <td>5</td>\n",
       "      <td>2</td>\n",
       "      <td>0</td>\n",
       "      <td>31000</td>\n",
       "      <td>6286</td>\n",
       "      <td>0</td>\n",
       "    </tr>\n",
       "    <tr>\n",
       "      <th>1998</th>\n",
       "      <td>1997</td>\n",
       "      <td>West Babylon</td>\n",
       "      <td>Suffolk</td>\n",
       "      <td>2</td>\n",
       "      <td>5</td>\n",
       "      <td>0</td>\n",
       "      <td>0</td>\n",
       "      <td>42299</td>\n",
       "      <td>8681</td>\n",
       "      <td>0</td>\n",
       "    </tr>\n",
       "    <tr>\n",
       "      <th>1999</th>\n",
       "      <td>1998</td>\n",
       "      <td>Woodmere</td>\n",
       "      <td>Nassau</td>\n",
       "      <td>2</td>\n",
       "      <td>5</td>\n",
       "      <td>0</td>\n",
       "      <td>0</td>\n",
       "      <td>35000</td>\n",
       "      <td>7337</td>\n",
       "      <td>0</td>\n",
       "    </tr>\n",
       "  </tbody>\n",
       "</table>\n",
       "<p>2000 rows × 10 columns</p>\n",
       "</div>"
      ],
      "text/plain": [
       "      index          City       County  Program Type  Electric Utility  \\\n",
       "0         0        Scotia  Schenectady             2                 3   \n",
       "1         1         Ridge      Suffolk             2                 5   \n",
       "2         2      Montrose  Westchester             2                 1   \n",
       "3         3         Bronx        Bronx             2                 1   \n",
       "4         4      Bellmore       Nassau             2                 5   \n",
       "...     ...           ...          ...           ...               ...   \n",
       "1995   1994     Bellerose       Queens             2                 1   \n",
       "1996   1995    Amityville      Suffolk             2                 5   \n",
       "1997   1996    East Islip      Suffolk             2                 5   \n",
       "1998   1997  West Babylon      Suffolk             2                 5   \n",
       "1999   1998      Woodmere       Nassau             2                 5   \n",
       "\n",
       "      Purchase Type  Project Status Project Cost  \\\n",
       "0                 2               0        22950   \n",
       "1                 0               0      38552.2   \n",
       "2                 2               0        40900   \n",
       "3                 0               0     20832.35   \n",
       "4                 0               0        44268   \n",
       "...             ...             ...          ...   \n",
       "1995             -1               0        55230   \n",
       "1996              0               0        50000   \n",
       "1997              2               0        31000   \n",
       "1998              0               0        42299   \n",
       "1999              0               0        35000   \n",
       "\n",
       "     Expected KWh Annual Production  Affordable Solar  \n",
       "0                              5987                 0  \n",
       "1                              9212                 0  \n",
       "2                              9015                 0  \n",
       "3                              3163                 0  \n",
       "4                              9279                 0  \n",
       "...                             ...               ...  \n",
       "1995                           7131                 0  \n",
       "1996                          15354                 0  \n",
       "1997                           6286                 0  \n",
       "1998                           8681                 0  \n",
       "1999                           7337                 0  \n",
       "\n",
       "[2000 rows x 10 columns]"
      ]
     },
     "execution_count": 38,
     "metadata": {},
     "output_type": "execute_result"
    }
   ],
   "source": [
    "solartabledf.head(2000)"
   ]
  },
  {
   "cell_type": "markdown",
   "id": "correct-fraction",
   "metadata": {},
   "source": [
    "Final Merging of all the 3 datset\n",
    "Firstly merging the 2 dataset that is solartabledf with oiltabledf and assinging the result into fdf.\n",
    "Then merging the remaining airtabledf with the fdf."
   ]
  },
  {
   "cell_type": "code",
   "execution_count": 39,
   "id": "extra-feature",
   "metadata": {},
   "outputs": [],
   "source": [
    "#Merging all three dataset and assinging the result into super_merge.\n",
    "super_merge = solartabledf.merge(oiltabledf,how='outer',on='index').merge(airtabledf,how='outer',on='index')"
   ]
  },
  {
   "cell_type": "code",
   "execution_count": 40,
   "id": "sound-asthma",
   "metadata": {},
   "outputs": [
    {
     "data": {
      "text/html": [
       "<div>\n",
       "<style scoped>\n",
       "    .dataframe tbody tr th:only-of-type {\n",
       "        vertical-align: middle;\n",
       "    }\n",
       "\n",
       "    .dataframe tbody tr th {\n",
       "        vertical-align: top;\n",
       "    }\n",
       "\n",
       "    .dataframe thead th {\n",
       "        text-align: right;\n",
       "    }\n",
       "</style>\n",
       "<table border=\"1\" class=\"dataframe\">\n",
       "  <thead>\n",
       "    <tr style=\"text-align: right;\">\n",
       "      <th></th>\n",
       "      <th>index</th>\n",
       "      <th>City_x</th>\n",
       "      <th>County_x</th>\n",
       "      <th>Program Type</th>\n",
       "      <th>Electric Utility</th>\n",
       "      <th>Purchase Type</th>\n",
       "      <th>Project Status</th>\n",
       "      <th>Project Cost</th>\n",
       "      <th>Expected KWh Annual Production</th>\n",
       "      <th>Affordable Solar</th>\n",
       "      <th>...</th>\n",
       "      <th>Active Oil Wells</th>\n",
       "      <th>Inactive Oil Wells</th>\n",
       "      <th>Active Gas Wells</th>\n",
       "      <th>Inactive Gas Wells</th>\n",
       "      <th>OilProduced</th>\n",
       "      <th>GasProduced</th>\n",
       "      <th>MeasureName</th>\n",
       "      <th>County</th>\n",
       "      <th>ReportYear</th>\n",
       "      <th>Value</th>\n",
       "    </tr>\n",
       "  </thead>\n",
       "  <tbody>\n",
       "    <tr>\n",
       "      <th>0</th>\n",
       "      <td>0</td>\n",
       "      <td>Scotia</td>\n",
       "      <td>Schenectady</td>\n",
       "      <td>2</td>\n",
       "      <td>3</td>\n",
       "      <td>2</td>\n",
       "      <td>0</td>\n",
       "      <td>22950</td>\n",
       "      <td>5987</td>\n",
       "      <td>0</td>\n",
       "      <td>...</td>\n",
       "      <td>0</td>\n",
       "      <td>0</td>\n",
       "      <td>1</td>\n",
       "      <td>0</td>\n",
       "      <td>0</td>\n",
       "      <td>106</td>\n",
       "      <td>0</td>\n",
       "      <td>Clay</td>\n",
       "      <td>1999</td>\n",
       "      <td>33</td>\n",
       "    </tr>\n",
       "    <tr>\n",
       "      <th>1</th>\n",
       "      <td>1</td>\n",
       "      <td>Ridge</td>\n",
       "      <td>Suffolk</td>\n",
       "      <td>2</td>\n",
       "      <td>5</td>\n",
       "      <td>0</td>\n",
       "      <td>0</td>\n",
       "      <td>38552.2</td>\n",
       "      <td>9212</td>\n",
       "      <td>0</td>\n",
       "      <td>...</td>\n",
       "      <td>28</td>\n",
       "      <td>0</td>\n",
       "      <td>0</td>\n",
       "      <td>0</td>\n",
       "      <td>1229</td>\n",
       "      <td>0</td>\n",
       "      <td>0</td>\n",
       "      <td>Elmore</td>\n",
       "      <td>1999</td>\n",
       "      <td>5</td>\n",
       "    </tr>\n",
       "    <tr>\n",
       "      <th>2</th>\n",
       "      <td>2</td>\n",
       "      <td>Montrose</td>\n",
       "      <td>Westchester</td>\n",
       "      <td>2</td>\n",
       "      <td>1</td>\n",
       "      <td>2</td>\n",
       "      <td>0</td>\n",
       "      <td>40900</td>\n",
       "      <td>9015</td>\n",
       "      <td>0</td>\n",
       "      <td>...</td>\n",
       "      <td>3</td>\n",
       "      <td>0</td>\n",
       "      <td>0</td>\n",
       "      <td>0</td>\n",
       "      <td>462</td>\n",
       "      <td>0</td>\n",
       "      <td>0</td>\n",
       "      <td>Jefferson</td>\n",
       "      <td>1999</td>\n",
       "      <td>39</td>\n",
       "    </tr>\n",
       "    <tr>\n",
       "      <th>3</th>\n",
       "      <td>3</td>\n",
       "      <td>Bronx</td>\n",
       "      <td>Bronx</td>\n",
       "      <td>2</td>\n",
       "      <td>1</td>\n",
       "      <td>0</td>\n",
       "      <td>0</td>\n",
       "      <td>20832.35</td>\n",
       "      <td>3163</td>\n",
       "      <td>0</td>\n",
       "      <td>...</td>\n",
       "      <td>0</td>\n",
       "      <td>0</td>\n",
       "      <td>1</td>\n",
       "      <td>0</td>\n",
       "      <td>0</td>\n",
       "      <td>530</td>\n",
       "      <td>0</td>\n",
       "      <td>Lawrence</td>\n",
       "      <td>1999</td>\n",
       "      <td>28</td>\n",
       "    </tr>\n",
       "    <tr>\n",
       "      <th>4</th>\n",
       "      <td>4</td>\n",
       "      <td>Bellmore</td>\n",
       "      <td>Nassau</td>\n",
       "      <td>2</td>\n",
       "      <td>5</td>\n",
       "      <td>0</td>\n",
       "      <td>0</td>\n",
       "      <td>44268</td>\n",
       "      <td>9279</td>\n",
       "      <td>0</td>\n",
       "      <td>...</td>\n",
       "      <td>10</td>\n",
       "      <td>0</td>\n",
       "      <td>0</td>\n",
       "      <td>0</td>\n",
       "      <td>45</td>\n",
       "      <td>0</td>\n",
       "      <td>0</td>\n",
       "      <td>Madison</td>\n",
       "      <td>1999</td>\n",
       "      <td>31</td>\n",
       "    </tr>\n",
       "    <tr>\n",
       "      <th>...</th>\n",
       "      <td>...</td>\n",
       "      <td>...</td>\n",
       "      <td>...</td>\n",
       "      <td>...</td>\n",
       "      <td>...</td>\n",
       "      <td>...</td>\n",
       "      <td>...</td>\n",
       "      <td>...</td>\n",
       "      <td>...</td>\n",
       "      <td>...</td>\n",
       "      <td>...</td>\n",
       "      <td>...</td>\n",
       "      <td>...</td>\n",
       "      <td>...</td>\n",
       "      <td>...</td>\n",
       "      <td>...</td>\n",
       "      <td>...</td>\n",
       "      <td>...</td>\n",
       "      <td>...</td>\n",
       "      <td>...</td>\n",
       "      <td>...</td>\n",
       "    </tr>\n",
       "    <tr>\n",
       "      <th>9995</th>\n",
       "      <td>9995</td>\n",
       "      <td>Bellmore</td>\n",
       "      <td>Nassau</td>\n",
       "      <td>2</td>\n",
       "      <td>5</td>\n",
       "      <td>0</td>\n",
       "      <td>0</td>\n",
       "      <td>43400</td>\n",
       "      <td>9097</td>\n",
       "      <td>0</td>\n",
       "      <td>...</td>\n",
       "      <td>0</td>\n",
       "      <td>0</td>\n",
       "      <td>0</td>\n",
       "      <td>4</td>\n",
       "      <td>0</td>\n",
       "      <td>0</td>\n",
       "      <td>1</td>\n",
       "      <td>New Castle</td>\n",
       "      <td>2006</td>\n",
       "      <td>6853262</td>\n",
       "    </tr>\n",
       "    <tr>\n",
       "      <th>9996</th>\n",
       "      <td>9996</td>\n",
       "      <td>Vestal</td>\n",
       "      <td>Broome</td>\n",
       "      <td>2</td>\n",
       "      <td>2</td>\n",
       "      <td>-1</td>\n",
       "      <td>0</td>\n",
       "      <td>30240</td>\n",
       "      <td>5940</td>\n",
       "      <td>0</td>\n",
       "      <td>...</td>\n",
       "      <td>72</td>\n",
       "      <td>8</td>\n",
       "      <td>0</td>\n",
       "      <td>0</td>\n",
       "      <td>4359</td>\n",
       "      <td>0</td>\n",
       "      <td>1</td>\n",
       "      <td>Sussex</td>\n",
       "      <td>2006</td>\n",
       "      <td>1823900</td>\n",
       "    </tr>\n",
       "    <tr>\n",
       "      <th>9997</th>\n",
       "      <td>9997</td>\n",
       "      <td>Locust Valley</td>\n",
       "      <td>Nassau</td>\n",
       "      <td>2</td>\n",
       "      <td>5</td>\n",
       "      <td>2</td>\n",
       "      <td>0</td>\n",
       "      <td>38532</td>\n",
       "      <td>11598</td>\n",
       "      <td>0</td>\n",
       "      <td>...</td>\n",
       "      <td>12</td>\n",
       "      <td>2</td>\n",
       "      <td>0</td>\n",
       "      <td>0</td>\n",
       "      <td>290</td>\n",
       "      <td>0</td>\n",
       "      <td>1</td>\n",
       "      <td>District of Columbia</td>\n",
       "      <td>2006</td>\n",
       "      <td>12554982</td>\n",
       "    </tr>\n",
       "    <tr>\n",
       "      <th>9998</th>\n",
       "      <td>9998</td>\n",
       "      <td>Hicksville</td>\n",
       "      <td>Nassau</td>\n",
       "      <td>2</td>\n",
       "      <td>5</td>\n",
       "      <td>2</td>\n",
       "      <td>0</td>\n",
       "      <td>49350</td>\n",
       "      <td>11034</td>\n",
       "      <td>0</td>\n",
       "      <td>...</td>\n",
       "      <td>2</td>\n",
       "      <td>0</td>\n",
       "      <td>0</td>\n",
       "      <td>0</td>\n",
       "      <td>30</td>\n",
       "      <td>0</td>\n",
       "      <td>1</td>\n",
       "      <td>Alachua</td>\n",
       "      <td>2006</td>\n",
       "      <td>479012</td>\n",
       "    </tr>\n",
       "    <tr>\n",
       "      <th>9999</th>\n",
       "      <td>9999</td>\n",
       "      <td>Island Park</td>\n",
       "      <td>Nassau</td>\n",
       "      <td>2</td>\n",
       "      <td>5</td>\n",
       "      <td>2</td>\n",
       "      <td>0</td>\n",
       "      <td>56779</td>\n",
       "      <td>11885</td>\n",
       "      <td>0</td>\n",
       "      <td>...</td>\n",
       "      <td>4</td>\n",
       "      <td>1</td>\n",
       "      <td>0</td>\n",
       "      <td>0</td>\n",
       "      <td>666</td>\n",
       "      <td>0</td>\n",
       "      <td>1</td>\n",
       "      <td>Baker</td>\n",
       "      <td>2006</td>\n",
       "      <td>25571</td>\n",
       "    </tr>\n",
       "  </tbody>\n",
       "</table>\n",
       "<p>10000 rows × 24 columns</p>\n",
       "</div>"
      ],
      "text/plain": [
       "      index         City_x     County_x  Program Type  Electric Utility  \\\n",
       "0         0         Scotia  Schenectady             2                 3   \n",
       "1         1          Ridge      Suffolk             2                 5   \n",
       "2         2       Montrose  Westchester             2                 1   \n",
       "3         3          Bronx        Bronx             2                 1   \n",
       "4         4       Bellmore       Nassau             2                 5   \n",
       "...     ...            ...          ...           ...               ...   \n",
       "9995   9995       Bellmore       Nassau             2                 5   \n",
       "9996   9996         Vestal       Broome             2                 2   \n",
       "9997   9997  Locust Valley       Nassau             2                 5   \n",
       "9998   9998     Hicksville       Nassau             2                 5   \n",
       "9999   9999    Island Park       Nassau             2                 5   \n",
       "\n",
       "      Purchase Type  Project Status Project Cost  \\\n",
       "0                 2               0        22950   \n",
       "1                 0               0      38552.2   \n",
       "2                 2               0        40900   \n",
       "3                 0               0     20832.35   \n",
       "4                 0               0        44268   \n",
       "...             ...             ...          ...   \n",
       "9995              0               0        43400   \n",
       "9996             -1               0        30240   \n",
       "9997              2               0        38532   \n",
       "9998              2               0        49350   \n",
       "9999              2               0        56779   \n",
       "\n",
       "     Expected KWh Annual Production  Affordable Solar  ... Active Oil Wells  \\\n",
       "0                              5987                 0  ...                0   \n",
       "1                              9212                 0  ...               28   \n",
       "2                              9015                 0  ...                3   \n",
       "3                              3163                 0  ...                0   \n",
       "4                              9279                 0  ...               10   \n",
       "...                             ...               ...  ...              ...   \n",
       "9995                           9097                 0  ...                0   \n",
       "9996                           5940                 0  ...               72   \n",
       "9997                          11598                 0  ...               12   \n",
       "9998                          11034                 0  ...                2   \n",
       "9999                          11885                 0  ...                4   \n",
       "\n",
       "      Inactive Oil Wells Active Gas Wells Inactive Gas Wells  OilProduced  \\\n",
       "0                      0                1                  0            0   \n",
       "1                      0                0                  0         1229   \n",
       "2                      0                0                  0          462   \n",
       "3                      0                1                  0            0   \n",
       "4                      0                0                  0           45   \n",
       "...                  ...              ...                ...          ...   \n",
       "9995                   0                0                  4            0   \n",
       "9996                   8                0                  0         4359   \n",
       "9997                   2                0                  0          290   \n",
       "9998                   0                0                  0           30   \n",
       "9999                   1                0                  0          666   \n",
       "\n",
       "      GasProduced MeasureName                County ReportYear     Value  \n",
       "0             106           0                  Clay       1999        33  \n",
       "1               0           0                Elmore       1999         5  \n",
       "2               0           0             Jefferson       1999        39  \n",
       "3             530           0              Lawrence       1999        28  \n",
       "4               0           0               Madison       1999        31  \n",
       "...           ...         ...                   ...        ...       ...  \n",
       "9995            0           1            New Castle       2006   6853262  \n",
       "9996            0           1                Sussex       2006   1823900  \n",
       "9997            0           1  District of Columbia       2006  12554982  \n",
       "9998            0           1               Alachua       2006    479012  \n",
       "9999            0           1                 Baker       2006     25571  \n",
       "\n",
       "[10000 rows x 24 columns]"
      ]
     },
     "execution_count": 40,
     "metadata": {},
     "output_type": "execute_result"
    }
   ],
   "source": [
    "#printing the super_merge dataframe\n",
    "super_merge"
   ]
  },
  {
   "cell_type": "code",
   "execution_count": 41,
   "id": "small-interaction",
   "metadata": {},
   "outputs": [
    {
     "data": {
      "text/plain": [
       "Index(['index', 'City_x', 'County_x', 'Program Type', 'Electric Utility',\n",
       "       'Purchase Type', 'Project Status', 'Project Cost',\n",
       "       'Expected KWh Annual Production', 'Affordable Solar', 'ProductionYear',\n",
       "       'Operator', 'County_y', 'City_y', 'Active Oil Wells',\n",
       "       'Inactive Oil Wells', 'Active Gas Wells', 'Inactive Gas Wells',\n",
       "       'OilProduced', 'GasProduced', 'MeasureName', 'County', 'ReportYear',\n",
       "       'Value'],\n",
       "      dtype='object')"
      ]
     },
     "execution_count": 41,
     "metadata": {},
     "output_type": "execute_result"
    }
   ],
   "source": [
    "super_merge.keys()"
   ]
  },
  {
   "cell_type": "markdown",
   "id": "considerable-armor",
   "metadata": {},
   "source": [
    "  visuvalization for the merge dataframe"
   ]
  },
  {
   "cell_type": "code",
   "execution_count": 42,
   "id": "competent-table",
   "metadata": {},
   "outputs": [
    {
     "data": {
      "image/png": "[encoded data removed]",
      "text/plain": [
       "<Figure size 432x288 with 1 Axes>"
      ]
     },
     "metadata": {},
     "output_type": "display_data"
    }
   ],
   "source": [
    "#this barplot shows the purchase type 2 is high, i.e more pepole choese to purchase. and least is the aggrement which id -1\n",
    "st_count = super_merge['Purchase Type'].value_counts()\n",
    "sns.set(style=\"darkgrid\")\n",
    "sns.barplot(st_count.index, st_count.values, alpha=0.9)\n",
    "plt.title('Frequency of purches type')\n",
    "plt.ylabel('Occurrences', fontsize=10)\n",
    "plt.xlabel('Purchase Type', fontsize=12)\n",
    "plt.show()"
   ]
  },
  {
   "cell_type": "code",
   "execution_count": 43,
   "id": "corporate-munich",
   "metadata": {},
   "outputs": [
    {
     "data": {
      "text/plain": [
       "<AxesSubplot:title={'center':'Electric Utility'}>"
      ]
     },
     "execution_count": 43,
     "metadata": {},
     "output_type": "execute_result"
    },
    {
     "data": {
      "image/png": "[encoded data removed]",
      "text/plain": [
       "<Figure size 432x432 with 1 Axes>"
      ]
     },
     "metadata": {},
     "output_type": "display_data"
    }
   ],
   "source": [
    "# to check which Electric Utility is high\n",
    "super_merge['Electric Utility'].value_counts().plot(kind='barh', figsize=(6,6), \n",
    "                                     edgecolor=(0,0,0),color='lightblue', title='Electric Utility')"
   ]
  },
  {
   "cell_type": "code",
   "execution_count": 44,
   "id": "median-reality",
   "metadata": {},
   "outputs": [
    {
     "data": {
      "image/png": "[encoded data removed]",
      "text/plain": [
       "<Figure size 432x288 with 1 Axes>"
      ]
     },
     "metadata": {},
     "output_type": "display_data"
    }
   ],
   "source": [
    "# which measure name has high count\n",
    "p = sns.countplot(data=super_merge, x = 'MeasureName')"
   ]
  },
  {
   "cell_type": "code",
   "execution_count": 45,
   "id": "specialized-paragraph",
   "metadata": {},
   "outputs": [],
   "source": [
    "#converting the int datatype\n",
    "super_merge['ProductionYear'] = super_merge['ProductionYear'].astype(int)"
   ]
  },
  {
   "cell_type": "code",
   "execution_count": 46,
   "id": "passive-spanish",
   "metadata": {},
   "outputs": [],
   "source": [
    "#converting the int datatype\n",
    "super_merge['OilProduced'] = super_merge['OilProduced'].astype(int)"
   ]
  },
  {
   "cell_type": "code",
   "execution_count": 47,
   "id": "valuable-chrome",
   "metadata": {},
   "outputs": [],
   "source": [
    "#converting the int datatype\n",
    "super_merge['GasProduced'] = super_merge['GasProduced'].astype(int)"
   ]
  },
  {
   "cell_type": "code",
   "execution_count": 48,
   "id": "crude-competition",
   "metadata": {},
   "outputs": [
    {
     "data": {
      "text/plain": [
       "<AxesSubplot:ylabel='Frequency'>"
      ]
     },
     "execution_count": 48,
     "metadata": {},
     "output_type": "execute_result"
    },
    {
     "data": {
      "image/png": "[encoded data removed]",
      "text/plain": [
       "<Figure size 432x288 with 1 Axes>"
      ]
     },
     "metadata": {},
     "output_type": "display_data"
    }
   ],
   "source": [
    "# in which production year oilproduction was high\n",
    "super_merge.plot.hist(x=\"OilProduced\", y=[\"ProductionYear\"],figsize=(6,4))"
   ]
  },
  {
   "cell_type": "code",
   "execution_count": 49,
   "id": "regulated-darwin",
   "metadata": {},
   "outputs": [
    {
     "data": {
      "text/plain": [
       "<AxesSubplot:ylabel='Frequency'>"
      ]
     },
     "execution_count": 49,
     "metadata": {},
     "output_type": "execute_result"
    },
    {
     "data": {
      "image/png": "[encoded data removed]",
      "text/plain": [
       "<Figure size 432x288 with 1 Axes>"
      ]
     },
     "metadata": {},
     "output_type": "display_data"
    }
   ],
   "source": [
    "super_merge.plot.hist(x=\"GasProduced\", y=[\"ProductionYear\"],figsize=(6,4))"
   ]
  },
  {
   "cell_type": "code",
   "execution_count": 50,
   "id": "miniature-engagement",
   "metadata": {},
   "outputs": [],
   "source": [
    "# identifying the 1 county from the count coloum\n",
    "Nassau = super_merge.query('County_x == \"Nassau\" ')"
   ]
  },
  {
   "cell_type": "code",
   "execution_count": 51,
   "id": "handed-swimming",
   "metadata": {},
   "outputs": [
    {
     "data": {
      "text/plain": [
       "<AxesSubplot:ylabel='Frequency'>"
      ]
     },
     "execution_count": 51,
     "metadata": {},
     "output_type": "execute_result"
    },
    {
     "data": {
      "image/png": "[encoded data removed]",
      "text/plain": [
       "<Figure size 432x288 with 1 Axes>"
      ]
     },
     "metadata": {},
     "output_type": "display_data"
    }
   ],
   "source": [
    "# identifying the the active oils well and production year in the county Nassau\n",
    "Nassau.plot.hist(x=\"Active Oil Wells\", y=[\"ProductionYear\"],figsize=(6,4))\n"
   ]
  },
  {
   "cell_type": "code",
   "execution_count": 52,
   "id": "major-cause",
   "metadata": {},
   "outputs": [
    {
     "data": {
      "image/png": "[encoded data removed]",
      "text/plain": [
       "<Figure size 432x288 with 1 Axes>"
      ]
     },
     "metadata": {},
     "output_type": "display_data"
    }
   ],
   "source": [
    "# verifying wheather the solar is affordable or not\n",
    "st_count = super_merge['Affordable Solar'].value_counts()\n",
    "sns.set(style=\"darkgrid\")\n",
    "sns.barplot(st_count.index, st_count.values, alpha=0.9)\n",
    "plt.title('Frequency of Affordable Solar')\n",
    "plt.ylabel('Occurrences', fontsize=10)\n",
    "plt.xlabel('Affordable Solar', fontsize=12)\n",
    "plt.show()"
   ]
  }
 ],
 "metadata": {
  "kernelspec": {
   "display_name": "Python 3",
   "language": "python",
   "name": "python3"
  },
  "language_info": {
   "codemirror_mode": {
    "name": "ipython",
    "version": 3
   },
   "file_extension": ".py",
   "mimetype": "text/x-python",
   "name": "python",
   "nbconvert_exporter": "python",
   "pygments_lexer": "ipython3",
   "version": "3.8.8"
  }
 },
 "nbformat": 4,
 "nbformat_minor": 5
}
